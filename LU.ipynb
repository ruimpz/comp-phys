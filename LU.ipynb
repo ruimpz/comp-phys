{
 "cells": [
  {
   "cell_type": "code",
   "execution_count": 3,
   "metadata": {},
   "outputs": [],
   "source": [
    "import numpy as np\n",
    "import scipy.linalg as sp"
   ]
  },
  {
   "cell_type": "code",
   "execution_count": 50,
   "metadata": {},
   "outputs": [],
   "source": [
    "def LU(A):\n",
    "    n = len(A)\n",
    "    A = np.array(A, float)\n",
    "    L, U = np.zeros((n, n)), np.zeros((n, n))\n",
    "    for j in range(n):\n",
    "        U[j, j] = 1\n",
    "        for i in range(j, n):\n",
    "            L[i, j] = A[i, j] - (L[i, :j] * U[:j, j]).sum()\n",
    "        for i in range(j+1, n):\n",
    "            U[j, i] = 1 / L[j, j] * (A[j, i] - (L[j, :i] * U[:i, i]).sum())\n",
    "    return L, U"
   ]
  },
  {
   "cell_type": "code",
   "execution_count": 51,
   "metadata": {},
   "outputs": [],
   "source": [
    "A = [\n",
    "    [1, 2, 5],\n",
    "    [3, 2, 1],\n",
    "    [1, 3, 2]\n",
    "]"
   ]
  },
  {
   "cell_type": "markdown",
   "metadata": {},
   "source": [
    "Método de relaxação"
   ]
  },
  {
   "cell_type": "code",
   "execution_count": null,
   "metadata": {},
   "outputs": [],
   "source": []
  }
 ],
 "metadata": {
  "kernelspec": {
   "display_name": "Python 3",
   "language": "python",
   "name": "python3"
  },
  "language_info": {
   "codemirror_mode": {
    "name": "ipython",
    "version": 3
   },
   "file_extension": ".py",
   "mimetype": "text/x-python",
   "name": "python",
   "nbconvert_exporter": "python",
   "pygments_lexer": "ipython3",
   "version": "3.7.1"
  }
 },
 "nbformat": 4,
 "nbformat_minor": 2
}
