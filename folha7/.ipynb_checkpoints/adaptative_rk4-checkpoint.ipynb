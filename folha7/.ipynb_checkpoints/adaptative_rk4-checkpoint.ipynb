{
 "cells": [
  {
   "cell_type": "code",
   "execution_count": 5,
   "metadata": {},
   "outputs": [],
   "source": [
    "import numpy as np\n",
    "import matplotlib.pyplot as plt\n",
    "%matplotlib inline"
   ]
  },
  {
   "cell_type": "code",
   "execution_count": 6,
   "metadata": {},
   "outputs": [],
   "source": [
    "def rk4_adapt_safe(f, t0, tf, N, r0, params = [], delta = 1e-6):\n",
    "    h = (tf - t0) / N\n",
    "    i = 0\n",
    "    ts = np.zeros(10000, float)\n",
    "    ts[0] = t0\n",
    "    r = np.zeros((len(r0), 10000), float)\n",
    "    r[:, 0] = r0\n",
    "    while ts[i] < tf:\n",
    "        i += 1\n",
    "        r0, t = r[:,i - 1], ts[i-1]\n",
    "        r1_t = r0 + iterate_rk4(f, r0, t, h, params)\n",
    "        r1 = r1_t + iterate_rk4(f, r1_t, t + h, h, params)\n",
    "        r2 = r0 + iterate_rk4(f, r0, t, 2 * h, params)\n",
    "        p = 30 * h * delta / np.linalg.norm((r2 - r1))\n",
    "        h *= min(p ** (1/4), 2)\n",
    "        while p < 1:\n",
    "            r1_t = r0 + iterate_rk4(f, r0, t, h, params)\n",
    "            r1 = r1_t + iterate_rk4(f, r1_t, t + h, h, params)\n",
    "            r2 = r0 + iterate_rk4(f, r0, t, 2 * h, params)\n",
    "            p = 30 * h * delta / np.linalg.norm((r2 - r1))\n",
    "            h *= min(p ** (1/4), 2)\n",
    "        r[:,i] = r1\n",
    "        ts[i] = t + 2 * h\n",
    "    return ts[:i], r[:, :i]\n",
    "\n",
    "def iterate_rk4(f, r, t, h, params):\n",
    "    k1 = h * f(r, t, *params)\n",
    "    k2 = h * f(r + .5 * k1, t + .5 * h, *params)\n",
    "    k3 = h * f(r + .5 * k2, t + .5 * h, *params)\n",
    "    k4 = h * f(r + k3, t + h, *params)\n",
    "    return (k1 + 2 * k2 + 2 * k3 + k4) / 6"
   ]
  },
  {
   "cell_type": "code",
   "execution_count": 7,
   "metadata": {},
   "outputs": [],
   "source": [
    "def rk4_adapt(f, t0, tf, N, r0, params = [], delta = 1e-6):\n",
    "    h = (tf - t0) / N\n",
    "    i = 0\n",
    "    ts = np.zeros(10000, float)\n",
    "    ts[0] = t0\n",
    "    r = np.zeros((len(r0), 10000), float)\n",
    "    r[:, 0] = r0\n",
    "    while ts[i] < tf:\n",
    "        i += 1\n",
    "        r0, t = r[:,i - 1], ts[i-1]\n",
    "        r1_t = r0 + iterate_rk4(f, r0, t, h, params)\n",
    "        r1 = r1_t + iterate_rk4(f, r1_t, t + h, h, params)\n",
    "        r2 = r0 + iterate_rk4(f, r0, t, 2 * h, params)\n",
    "        p = 30 * h * delta / np.linalg.norm((r2 - r1))\n",
    "        h *= min(p ** (1/4), 2)\n",
    "        if p < 1:\n",
    "            r1_t = r0 + iterate_rk4(f, r0, t, h, params)\n",
    "            r1 = r1_t + iterate_rk4(f, r1_t, t + h, h, params)\n",
    "            r2 = r0 + iterate_rk4(f, r0, t, 2 * h, params)\n",
    "        r[:,i] = r1\n",
    "        ts[i] = t + 2 * h\n",
    "    return ts[:i], r[:, :i]\n",
    "\n",
    "def iterate_rk4(f, r, t, h, params):\n",
    "    k1 = h * f(r, t, *params)\n",
    "    k2 = h * f(r + .5 * k1, t + .5 * h, *params)\n",
    "    k3 = h * f(r + .5 * k2, t + .5 * h, *params)\n",
    "    k4 = h * f(r + k3, t + h, *params)\n",
    "    return (k1 + 2 * k2 + 2 * k3 + k4) / 6"
   ]
  },
  {
   "cell_type": "code",
   "execution_count": 8,
   "metadata": {},
   "outputs": [],
   "source": [
    "def f(r, t):\n",
    "    return np.array([-r[0] ** 3 + np.sin(t)])"
   ]
  },
  {
   "cell_type": "code",
   "execution_count": 9,
   "metadata": {},
   "outputs": [
    {
     "data": {
      "image/png": "[encoded data removed]",
      "text/plain": [
       "<Figure size 432x288 with 1 Axes>"
      ]
     },
     "metadata": {
      "needs_background": "dark"
     },
     "output_type": "display_data"
    }
   ],
   "source": [
    "t, r = rk4_adapt(f, 0, 10, 1000, [0], delta = 1e-8)\n",
    "plt.plot(t, r[0])\n",
    "plt.show()"
   ]
  },
  {
   "cell_type": "code",
   "execution_count": null,
   "metadata": {},
   "outputs": [],
   "source": []
  }
 ],
 "metadata": {
  "kernelspec": {
   "display_name": "Python 3",
   "language": "python",
   "name": "python3"
  },
  "language_info": {
   "codemirror_mode": {
    "name": "ipython",
    "version": 3
   },
   "file_extension": ".py",
   "mimetype": "text/x-python",
   "name": "python",
   "nbconvert_exporter": "python",
   "pygments_lexer": "ipython3",
   "version": "3.7.3"
  }
 },
 "nbformat": 4,
 "nbformat_minor": 2
}
