{
 "cells": [
  {
   "cell_type": "code",
   "execution_count": 3,
   "metadata": {},
   "outputs": [],
   "source": [
    "import numpy as np"
   ]
  },
  {
   "cell_type": "markdown",
   "metadata": {},
   "source": [
    "# Exercício 1\n"
   ]
  },
  {
   "cell_type": "markdown",
   "metadata": {},
   "source": [
    "## 1.1)\n",
    "Escrevemos uma rotina que resolva sistemas de equações lineares pelo método de Gauss com pivotage parcial."
   ]
  },
  {
   "cell_type": "code",
   "execution_count": 86,
   "metadata": {},
   "outputs": [
    {
     "name": "stdout",
     "output_type": "stream",
     "text": [
      "d 0.0\n",
      "[[0.  2.  2. ]\n",
      " [2.  1.  1. ]\n",
      " [1.  0.6 0.4]]\n",
      "[2 1 0]\n",
      "d -0.19999999999999996\n",
      "[[ 0.   1.   1. ]\n",
      " [ 0.  -0.2  0.2]\n",
      " [ 1.   0.6  0.4]]\n",
      "[2 0 1]\n",
      "d 0.4\n",
      "[[ 0.   1.   1. ]\n",
      " [ 0.  -0.2  0.5]\n",
      " [ 1.   0.6  0.4]]\n",
      "[2 0 1]\n"
     ]
    },
    {
     "data": {
      "text/plain": [
       "array([[ 0. ,  1. ,  1. ],\n",
       "       [ 0. , -0.2,  0.5],\n",
       "       [ 1. ,  0.6,  0.4]])"
      ]
     },
     "execution_count": 86,
     "metadata": {},
     "output_type": "execute_result"
    }
   ],
   "source": [
    "def gauss_solve(A, v):\n",
    "    A, v = np.array(A, float), np.array(v, float)\n",
    "    n = len(A)\n",
    "    epsilon = 1e-14\n",
    "    index = np.arange(n)\n",
    "    for i in range(n):\n",
    "        d = A[i, i]\n",
    "        print(\"d\" , d )\n",
    "        if d > epsilon:\n",
    "            A[index[i], i:] /= d\n",
    "        elif i < n - 1:\n",
    "            i_max = np.argmax(np.absolute(A[i + 1:,i])) + i + 1 #erro\n",
    "            index[i], index[i_max] = index[i_max], index[i]\n",
    "            d = A[index[i], i]\n",
    "            A[index[i], i:] /= d\n",
    "        v[i] /= d\n",
    "        print(A)\n",
    "        print(index)\n",
    "        for j in range(i + 1, n):\n",
    "            m = A[index[j], i]\n",
    "            if m > epsilon:\n",
    "                A[index[j],:] -= A[index[i],:] * m\n",
    "                v[index[j]] -= v[index[i]] * m\n",
    "    #x = np.zeros(n)\n",
    "    #x[-1] = v[-1]\n",
    "    #for i in range(2, n + 1):\n",
    "    #    x[-ind] = v[-ind] - (A[-ind, -i+1:]*x[-ind+1:]).sum()\n",
    "    return A\n",
    "\n",
    "#------------------------------------------------------------------------\n",
    "A = np.array([\n",
    "    [0, 2, 2],\n",
    "    [2, 1, 1],\n",
    "    [5, 3, 2]\n",
    "])\n",
    "v = np.array([1, 1, 1])\n",
    "gauss_solve(A, v)"
   ]
  },
  {
   "cell_type": "code",
   "execution_count": 64,
   "metadata": {},
   "outputs": [
    {
     "name": "stdout",
     "output_type": "stream",
     "text": [
      "[2 5]\n"
     ]
    }
   ],
   "source": [
    "print(A[1:, 0])"
   ]
  },
  {
   "cell_type": "markdown",
   "metadata": {},
   "source": [
    "# 1.2)\n",
    "Temos o seguinte sistema de equações:\n",
    "\n",
    "$m_{i} \\frac{d^{2} X_{i}}{d t^{2}}=-k_{i}\\left(X_{i}-X_{i-1}\\right)+k_{i+1}\\left(X_{i+1}-X_{i}\\right)$\n",
    "\n",
    "sendo $X_o = 0$ e $X_{N + 1} = L$.\n",
    "\n",
    "A condição de equilíbrio implica $\\frac{d^{2} X_{i}}{d t^{2}} = 0$"
   ]
  },
  {
   "cell_type": "code",
   "execution_count": null,
   "metadata": {},
   "outputs": [],
   "source": []
  }
 ],
 "metadata": {
  "kernelspec": {
   "display_name": "Python 3",
   "language": "python",
   "name": "python3"
  },
  "language_info": {
   "codemirror_mode": {
    "name": "ipython",
    "version": 3
   },
   "file_extension": ".py",
   "mimetype": "text/x-python",
   "name": "python",
   "nbconvert_exporter": "python",
   "pygments_lexer": "ipython3",
   "version": "3.7.3"
  },
  "toc": {
   "base_numbering": 1,
   "nav_menu": {},
   "number_sections": true,
   "sideBar": true,
   "skip_h1_title": false,
   "title_cell": "Table of Contents",
   "title_sidebar": "Contents",
   "toc_cell": false,
   "toc_position": {},
   "toc_section_display": true,
   "toc_window_display": false
  }
 },
 "nbformat": 4,
 "nbformat_minor": 2
}
