{
 "cells": [
  {
   "cell_type": "code",
   "execution_count": 13,
   "metadata": {},
   "outputs": [],
   "source": [
    "import matplotlib.pyplot as plt\n",
    "import numpy as np\n",
    "%matplotlib inline"
   ]
  },
  {
   "cell_type": "markdown",
   "metadata": {},
   "source": [
    "# Newton's Method"
   ]
  },
  {
   "cell_type": "code",
   "execution_count": 24,
   "metadata": {},
   "outputs": [],
   "source": [
    "def P(x):\n",
    "    return 924*x**6 -2772*x**5 + 5150*x**4 - 1680*x**3 +420*x**2 - 42*x + 1\n",
    "\n",
    "def d_P(x):\n",
    "    return 5544*x**5 - 13860 *x**4 + 20600*x**3 - 5040 *x**2 + 840 *x - 42"
   ]
  },
  {
   "cell_type": "code",
   "execution_count": 35,
   "metadata": {},
   "outputs": [],
   "source": [
    "def Newton(f, d_f, x0, delta = 1e-14):\n",
    "    x1 = x0 - f(x0) / d_f(x0)\n",
    "    error = abs(x1 - x0)\n",
    "    while error > delta:\n",
    "        x0 = x1\n",
    "        x1 -= f(x0) / d_f(x0)\n",
    "        error = abs(x1 - x0)\n",
    "    return x1"
   ]
  },
  {
   "cell_type": "code",
   "execution_count": 60,
   "metadata": {},
   "outputs": [
    {
     "data": {
      "text/plain": [
       "[<matplotlib.lines.Line2D at 0x7fa3274997b8>]"
      ]
     },
     "execution_count": 60,
     "metadata": {},
     "output_type": "execute_result"
    },
    {
     "data": {
      "image/png": "[encoded data removed]",
      "text/plain": [
       "<Figure size 432x288 with 1 Axes>"
      ]
     },
     "metadata": {
      "needs_background": "dark"
     },
     "output_type": "display_data"
    }
   ],
   "source": [
    "x = np.linspace(-1, 1, 1000)\n",
    "plt.plot(x, P(x))"
   ]
  },
  {
   "cell_type": "code",
   "execution_count": 61,
   "metadata": {},
   "outputs": [
    {
     "name": "stdout",
     "output_type": "stream",
     "text": [
      "0.03390524604375709\n",
      "0.11401231390325577\n"
     ]
    }
   ],
   "source": [
    "print(Newton(P, d_P, 0))\n",
    "print(Newton(P, d_P, 1))"
   ]
  },
  {
   "cell_type": "markdown",
   "metadata": {},
   "source": [
    "# Golden Ratio Search"
   ]
  },
  {
   "cell_type": "code",
   "execution_count": 138,
   "metadata": {},
   "outputs": [],
   "source": [
    "def grs(f, x1, x4, delta=1e-12):\n",
    "    z = (1 + np.sqrt(5))/2\n",
    "    d = (x4 - x1)/z\n",
    "    x2, x3 = x4 - d, x1 + d\n",
    "    f1, f2, f3, f4 = f(x1), f(x2), f(x3), f(x4)\n",
    "    while x4 - x1 > delta:\n",
    "        if f2 < f3:\n",
    "            x4, x3, x2 = x3, x2, x3 - (x3 - x1)/z\n",
    "            f4, f3, f2 = f3, f2, f(x2)\n",
    "        else:\n",
    "            x1, x2, x3 = x2, x3, x2 + (x4 - x2)/z\n",
    "    return 1/2*(x4 + x1)"
   ]
  },
  {
   "cell_type": "code",
   "execution_count": 139,
   "metadata": {},
   "outputs": [],
   "source": [
    "def f(x):\n",
    "    return (x-2)**2 - 1"
   ]
  },
  {
   "cell_type": "code",
   "execution_count": 140,
   "metadata": {},
   "outputs": [
    {
     "name": "stdout",
     "output_type": "stream",
     "text": [
      "1.9999999999995326\n"
     ]
    }
   ],
   "source": [
    "print(grs(f, 0, 2))"
   ]
  },
  {
   "cell_type": "code",
   "execution_count": 141,
   "metadata": {},
   "outputs": [
    {
     "data": {
      "text/plain": [
       "[<matplotlib.lines.Line2D at 0x7fa326dcf780>]"
      ]
     },
     "execution_count": 141,
     "metadata": {},
     "output_type": "execute_result"
    },
    {
     "data": {
      "image/png": "[encoded data removed]",
      "text/plain": [
       "<Figure size 432x288 with 1 Axes>"
      ]
     },
     "metadata": {
      "needs_background": "dark"
     },
     "output_type": "display_data"
    }
   ],
   "source": [
    "x = np.linspace(0, 4, 1000)\n",
    "plt.plot(x, f(x))"
   ]
  },
  {
   "cell_type": "code",
   "execution_count": null,
   "metadata": {},
   "outputs": [],
   "source": []
  }
 ],
 "metadata": {
  "kernelspec": {
   "display_name": "Python 3",
   "language": "python",
   "name": "python3"
  },
  "language_info": {
   "codemirror_mode": {
    "name": "ipython",
    "version": 3
   },
   "file_extension": ".py",
   "mimetype": "text/x-python",
   "name": "python",
   "nbconvert_exporter": "python",
   "pygments_lexer": "ipython3",
   "version": "3.7.3"
  }
 },
 "nbformat": 4,
 "nbformat_minor": 2
}
