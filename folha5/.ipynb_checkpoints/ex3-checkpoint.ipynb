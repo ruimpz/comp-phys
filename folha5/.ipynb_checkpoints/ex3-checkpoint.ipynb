{
 "cells": [
  {
   "cell_type": "markdown",
   "metadata": {},
   "source": [
    "# Decomposição **LU**"
   ]
  },
  {
   "cell_type": "code",
   "execution_count": 1,
   "metadata": {},
   "outputs": [],
   "source": [
    "def LU(A):\n",
    "    n = len(A)\n",
    "    A = np.array(A, float)\n",
    "    L, U = np.zeros((n, n)), np.zeros((n, n))\n",
    "    for j in range(n):\n",
    "        U[j, j] = 1\n",
    "        for i in range(j, n):\n",
    "            L[i, j] = A[i, j] - (L[i, :j] * U[:j, j]).sum()\n",
    "        for i in range(j+1, n):\n",
    "            U[j, i] = 1 / L[j, j] * (A[j, i] - (L[j, :i] * U[:i, i]).sum())\n",
    "    return L, U"
   ]
  },
  {
   "cell_type": "code",
   "execution_count": null,
   "metadata": {},
   "outputs": [],
   "source": []
  }
 ],
 "metadata": {
  "kernelspec": {
   "display_name": "Python 3",
   "language": "python",
   "name": "python3"
  },
  "language_info": {
   "codemirror_mode": {
    "name": "ipython",
    "version": 3
   },
   "file_extension": ".py",
   "mimetype": "text/x-python",
   "name": "python",
   "nbconvert_exporter": "python",
   "pygments_lexer": "ipython3",
   "version": "3.7.3"
  }
 },
 "nbformat": 4,
 "nbformat_minor": 2
}
