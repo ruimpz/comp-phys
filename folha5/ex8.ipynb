{
 "cells": [
  {
   "cell_type": "code",
   "execution_count": 1,
   "metadata": {},
   "outputs": [],
   "source": [
    "import numpy as np"
   ]
  },
  {
   "cell_type": "markdown",
   "metadata": {},
   "source": [
    "# 1) QR"
   ]
  },
  {
   "cell_type": "code",
   "execution_count": 2,
   "metadata": {},
   "outputs": [],
   "source": [
    "def QR_decomp(A, n):\n",
    "    Q, R, U = np.zeros((n, n), float), np.zeros((n, n), float),np.zeros((n, n), float)\n",
    "    U[:,0] = A[:,0]\n",
    "    u_norms = np.empty(n, float)\n",
    "    u_norms[0] = np.linalg.norm(U[:, 0])\n",
    "    Q[:, 0] =  U[:, 0]/u_norms[0]\n",
    "    for i in range(1, n):\n",
    "        U[:, i] = A[:, i]\n",
    "        for j in range(i):\n",
    "            U[:, i] -= Q[:, j].dot(A[:, i]) * Q[:, j]\n",
    "        u_norms[i] = np.linalg.norm(U[:, i])\n",
    "        Q[:,i] = U[:, i]/u_norms[i]\n",
    "    for i in range(n):\n",
    "        for j in range(i + 1, n):\n",
    "            R[i, j] = Q[:, i].dot(A[:, j])\n",
    "        R[i, i] = u_norms[i]\n",
    "    return Q, R"
   ]
  },
  {
   "cell_type": "markdown",
   "metadata": {},
   "source": [
    "# 2) Eigenvalues"
   ]
  },
  {
   "cell_type": "code",
   "execution_count": 3,
   "metadata": {},
   "outputs": [],
   "source": [
    "def eigen(A, epsilon = 1e-12):\n",
    "    n = len(A)\n",
    "    V = np.identity(n, float)\n",
    "    diag = False\n",
    "    while not diag:\n",
    "        diag = True\n",
    "        Q, R = QR_decomp(A, n)\n",
    "        A = np.dot(R, Q)\n",
    "        V = np.dot(V, Q)\n",
    "        if abs(A.sum() - np.diag(A).sum()) > epsilon:\n",
    "            diag = False\n",
    "    return np.diag(A), V"
   ]
  },
  {
   "cell_type": "code",
   "execution_count": null,
   "metadata": {},
   "outputs": [],
   "source": []
  }
 ],
 "metadata": {
  "kernelspec": {
   "display_name": "Python 3",
   "language": "python",
   "name": "python3"
  },
  "language_info": {
   "codemirror_mode": {
    "name": "ipython",
    "version": 3
   },
   "file_extension": ".py",
   "mimetype": "text/x-python",
   "name": "python",
   "nbconvert_exporter": "python",
   "pygments_lexer": "ipython3",
   "version": "3.7.3"
  }
 },
 "nbformat": 4,
 "nbformat_minor": 2
}
