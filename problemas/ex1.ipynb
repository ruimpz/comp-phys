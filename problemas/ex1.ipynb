{
 "cells": [
  {
   "cell_type": "code",
   "execution_count": 35,
   "metadata": {},
   "outputs": [],
   "source": [
    "import numpy as np\n",
    "import matplotlib.pyplot as plt\n",
    "from math import sqrt, pi\n",
    "%matplotlib inline"
   ]
  },
  {
   "cell_type": "markdown",
   "metadata": {},
   "source": [
    "# Exercício 1\n",
    "\n",
    "## 1)\n",
    "\n",
    "As seguintes descrições descrevem as órbitas dos planetas. Temos a 2º equação de Kepler\n",
    "\n",
    "$$ \\ell _ { 2 } v _ { 2 } = \\ell _ { 1 } v _ { 1 } $$\n",
    "\n",
    "Por conservação de energia:\n",
    "\n",
    "$$E = \\frac { 1 } { 2 } m v ^ { 2 } - G \\frac { m M } { r }$$\n",
    "\n",
    "Substituindo obtemos:\n",
    "\n",
    "$$v _ { 2 } ^ { 2 } - \\frac { 2 G M } { v _ { 1 } \\ell _ { 1 } } v _ { 2 } - \\left[ v _ { 1 } ^ { 2 } - \\frac { 2 G M } { \\ell _ { 1 } } \\right] = 0$$\n",
    "\n",
    "Onde a menor raiz é $v_2$:\n",
    "\n",
    "$$v _ { 2 } = \\frac{GM}{v_1 l_1} - \\sqrt{ \\left( \\frac{GM}{v_1 l_1} \\right)^2 - \\frac{ 2 GM}{l_1} + v_1 ^2 } $$\n",
    "\n",
    "E então:\n",
    "\n",
    "$$l_2 = \\frac{l_1 v_1}{v_2}$$\n",
    "\n",
    "## 2)\n",
    "\n",
    "Semi-eixo maior: $\\quad a = \\frac { 1 } { 2 } \\left( \\ell _ { 1 } + \\ell _ { 2 } \\right)$\n",
    "\n",
    "Semi-eixo menor: $\\quad b = \\sqrt { \\ell _ { 1 } \\ell _ { 2 } } $\n",
    "\n",
    "Período orbital: $\\quad T = \\frac { 2 \\pi a b } { \\ell _ { 1 } v _ { 1 } } $\n",
    "\n",
    "Excentricidade orbital: $\\quad e = \\frac { \\ell _ { 2 } - \\ell _ { 1 } } { \\ell _ { 2 } + \\ell _ { 1 } } $\n",
    "\n",
    "Massa do Sol $M = 1.9891 \\times 10 ^ { 30 } \\mathrm { kg } $\n",
    "\n",
    "Constante Gravitacional $G = 6.6738 \\times 10 ^ { - 11 } \\mathrm { m } ^ { 3 } \\mathrm { kg } ^ { - 1 } \\mathrm { s } ^ { - 2 }$\n"
   ]
  },
  {
   "cell_type": "code",
   "execution_count": null,
   "metadata": {},
   "outputs": [],
   "source": [
    "# Terra\n",
    "l1 = 1.471e11        #Distância ao Sol\n",
    "v1 = 30287           #Velocidade no periélio (m/s)"
   ]
  },
  {
   "cell_type": "code",
   "execution_count": 37,
   "metadata": {
    "scrolled": true
   },
   "outputs": [
    {
     "name": "stdout",
     "output_type": "stream",
     "text": [
      "v2 29305.39917726127\n",
      "l2 152027197208.65994\n",
      "a 149563598604.32996\n",
      "b 149543307136.74176\n",
      "T 31543060.207886923\n",
      "e 0.01647191313474219\n"
     ]
    }
   ],
   "source": [
    "G = 6.6738e-11\n",
    "M = 1.9891e30\n",
    "\n",
    "k = G * M / v1 / l1\n",
    "v2 = k - sqrt(k ** 2 + v1 ** 2 - 2 * k * v1)\n",
    "l2 = l1 * v1 / v2\n",
    "\n",
    "a = 0.5 * (l1 + l2)\n",
    "b = sqrt(l1 * l2)\n",
    "T = 2 * pi * a * b / l1 / v1\n",
    "e = (l2 - l1)/(l2 + l1)\n",
    "\n",
    "for name, param in [(\"v2\", v2), (\"l2\", l2), (\"a\", a), (\"b\", b), (\"T\", T), (\"e\", e)]:\n",
    "    print(name, param)"
   ]
  },
  {
   "cell_type": "code",
   "execution_count": 38,
   "metadata": {},
   "outputs": [],
   "source": [
    "# Cometa Halley\n",
    "l1 = 8.873e10        #Distância ao Sol\n",
    "v1 = 54529           #Velocidade no periélio (m/s)"
   ]
  },
  {
   "cell_type": "code",
   "execution_count": 39,
   "metadata": {},
   "outputs": [
    {
     "name": "stdout",
     "output_type": "stream",
     "text": [
      "v2 344.38933405172065\n",
      "l2 14049094125758.76\n",
      "a 7068912062879.38\n",
      "b 1116501733889.641\n",
      "T 10249291250.039454\n",
      "e 0.9874478563022528\n"
     ]
    }
   ],
   "source": [
    "G = 6.6738e-11\n",
    "M = 1.9891e30\n",
    "\n",
    "k = G * M / v1 / l1\n",
    "v2 = k - sqrt(k ** 2 + v1 ** 2 - 2 * k * v1)\n",
    "l2 = l1 * v1 / v2\n",
    "\n",
    "a = 0.5 * (l1 + l2)\n",
    "b = sqrt(l1 * l2)\n",
    "T = 2 * pi * a * b / l1 / v1\n",
    "e = (l2 - l1)/(l2 + l1)\n",
    "\n",
    "for name, param in [(\"v2\", v2), (\"l2\", l2), (\"a\", a), (\"b\", b), (\"T\", T), (\"e\", e)]:\n",
    "    print(name, param)"
   ]
  }
 ],
 "metadata": {
  "kernelspec": {
   "display_name": "Python 3",
   "language": "python",
   "name": "python3"
  },
  "language_info": {
   "codemirror_mode": {
    "name": "ipython",
    "version": 3
   },
   "file_extension": ".py",
   "mimetype": "text/x-python",
   "name": "python",
   "nbconvert_exporter": "python",
   "pygments_lexer": "ipython3",
   "version": "3.7.2"
  }
 },
 "nbformat": 4,
 "nbformat_minor": 2
}
