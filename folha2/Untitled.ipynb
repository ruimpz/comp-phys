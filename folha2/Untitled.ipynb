{
 "cells": [
  {
   "cell_type": "code",
   "execution_count": 2,
   "metadata": {},
   "outputs": [
    {
     "data": {
      "application/javascript": [
       "if (typeof Jupyter !== \"undefined\") {require.undef(\"nbextensions/vpython_libraries/glow.min\");}else{element.textContent = ' ';}"
      ],
      "text/plain": [
       "<IPython.core.display.Javascript object>"
      ]
     },
     "metadata": {},
     "output_type": "display_data"
    },
    {
     "data": {
      "application/javascript": [
       "if (typeof Jupyter !== \"undefined\") {require.undef(\"nbextensions/vpython_libraries/glowcomm\");}else{element.textContent = ' ';}"
      ],
      "text/plain": [
       "<IPython.core.display.Javascript object>"
      ]
     },
     "metadata": {},
     "output_type": "display_data"
    },
    {
     "data": {
      "application/javascript": [
       "if (typeof Jupyter !== \"undefined\") {require.undef(\"nbextensions/vpython_libraries/jquery-ui.custom.min\");}else{element.textContent = ' ';}"
      ],
      "text/plain": [
       "<IPython.core.display.Javascript object>"
      ]
     },
     "metadata": {},
     "output_type": "display_data"
    },
    {
     "data": {
      "application/javascript": [
       "if (typeof Jupyter !== \"undefined\") {require([\"nbextensions/vpython_libraries/glow.min\"], function(){console.log(\"GLOW LOADED\");});}else{element.textContent = ' ';}"
      ],
      "text/plain": [
       "<IPython.core.display.Javascript object>"
      ]
     },
     "metadata": {},
     "output_type": "display_data"
    },
    {
     "data": {
      "application/javascript": [
       "if (typeof Jupyter !== \"undefined\") {require([\"nbextensions/vpython_libraries/glowcomm\"], function(){console.log(\"GLOWCOMM LOADED\");});}else{element.textContent = ' ';}"
      ],
      "text/plain": [
       "<IPython.core.display.Javascript object>"
      ]
     },
     "metadata": {},
     "output_type": "display_data"
    },
    {
     "data": {
      "application/javascript": [
       "if (typeof Jupyter !== \"undefined\") {require([\"nbextensions/vpython_libraries/jquery-ui.custom.min\"], function(){console.log(\"JQUERY LOADED\");});}else{element.textContent = ' ';}"
      ],
      "text/plain": [
       "<IPython.core.display.Javascript object>"
      ]
     },
     "metadata": {},
     "output_type": "display_data"
    },
    {
     "data": {
      "text/html": [
       "<div id=\"glowscript\" class=\"glowscript\"></div>"
      ],
      "text/plain": [
       "<IPython.core.display.HTML object>"
      ]
     },
     "metadata": {},
     "output_type": "display_data"
    },
    {
     "data": {
      "application/javascript": [
       "if (typeof Jupyter !== \"undefined\") { window.__context = { glowscript_container: $(\"#glowscript\").removeAttr(\"id\")};}else{ element.textContent = ' ';}"
      ],
      "text/plain": [
       "<IPython.core.display.Javascript object>"
      ]
     },
     "metadata": {},
     "output_type": "display_data"
    }
   ],
   "source": [
    "from vpython import sphere, vector, rate, color\n",
    "import numpy as np"
   ]
  },
  {
   "cell_type": "code",
   "execution_count": null,
   "metadata": {},
   "outputs": [
    {
     "name": "stderr",
     "output_type": "stream",
     "text": [
      "/Users/flower/.virtualenvs/comp-phys/lib/python3.7/site-packages/ipykernel/__main__.py:5: RuntimeWarning: divide by zero encountered in true_divide\n",
      "/Users/flower/.virtualenvs/comp-phys/lib/python3.7/site-packages/ipykernel/__main__.py:13: RuntimeWarning: invalid value encountered in cos\n",
      "/Users/flower/.virtualenvs/comp-phys/lib/python3.7/site-packages/ipykernel/__main__.py:14: RuntimeWarning: invalid value encountered in cos\n",
      "/Users/flower/.virtualenvs/comp-phys/lib/python3.7/site-packages/ipykernel/__main__.py:13: RuntimeWarning: invalid value encountered in cos\n",
      "/Users/flower/.virtualenvs/comp-phys/lib/python3.7/site-packages/ipykernel/__main__.py:14: RuntimeWarning: invalid value encountered in cos\n",
      "/Users/flower/.virtualenvs/comp-phys/lib/python3.7/site-packages/ipykernel/__main__.py:13: RuntimeWarning: invalid value encountered in cos\n",
      "/Users/flower/.virtualenvs/comp-phys/lib/python3.7/site-packages/ipykernel/__main__.py:14: RuntimeWarning: invalid value encountered in cos\n",
      "/Users/flower/.virtualenvs/comp-phys/lib/python3.7/site-packages/ipykernel/__main__.py:13: RuntimeWarning: invalid value encountered in cos\n",
      "/Users/flower/.virtualenvs/comp-phys/lib/python3.7/site-packages/ipykernel/__main__.py:14: RuntimeWarning: invalid value encountered in cos\n",
      "/Users/flower/.virtualenvs/comp-phys/lib/python3.7/site-packages/ipykernel/__main__.py:13: RuntimeWarning: invalid value encountered in cos\n",
      "/Users/flower/.virtualenvs/comp-phys/lib/python3.7/site-packages/ipykernel/__main__.py:14: RuntimeWarning: invalid value encountered in cos\n",
      "/Users/flower/.virtualenvs/comp-phys/lib/python3.7/site-packages/ipykernel/__main__.py:13: RuntimeWarning: invalid value encountered in cos\n",
      "/Users/flower/.virtualenvs/comp-phys/lib/python3.7/site-packages/ipykernel/__main__.py:14: RuntimeWarning: invalid value encountered in cos\n",
      "/Users/flower/.virtualenvs/comp-phys/lib/python3.7/site-packages/ipykernel/__main__.py:13: RuntimeWarning: invalid value encountered in cos\n",
      "/Users/flower/.virtualenvs/comp-phys/lib/python3.7/site-packages/ipykernel/__main__.py:14: RuntimeWarning: invalid value encountered in cos\n",
      "/Users/flower/.virtualenvs/comp-phys/lib/python3.7/site-packages/ipykernel/__main__.py:13: RuntimeWarning: invalid value encountered in cos\n",
      "/Users/flower/.virtualenvs/comp-phys/lib/python3.7/site-packages/ipykernel/__main__.py:14: RuntimeWarning: invalid value encountered in cos\n",
      "/Users/flower/.virtualenvs/comp-phys/lib/python3.7/site-packages/ipykernel/__main__.py:13: RuntimeWarning: invalid value encountered in cos\n",
      "/Users/flower/.virtualenvs/comp-phys/lib/python3.7/site-packages/ipykernel/__main__.py:14: RuntimeWarning: invalid value encountered in cos\n",
      "/Users/flower/.virtualenvs/comp-phys/lib/python3.7/site-packages/ipykernel/__main__.py:13: RuntimeWarning: invalid value encountered in cos\n",
      "/Users/flower/.virtualenvs/comp-phys/lib/python3.7/site-packages/ipykernel/__main__.py:14: RuntimeWarning: invalid value encountered in cos\n",
      "/Users/flower/.virtualenvs/comp-phys/lib/python3.7/site-packages/ipykernel/__main__.py:13: RuntimeWarning: invalid value encountered in cos\n",
      "/Users/flower/.virtualenvs/comp-phys/lib/python3.7/site-packages/ipykernel/__main__.py:14: RuntimeWarning: invalid value encountered in cos\n",
      "/Users/flower/.virtualenvs/comp-phys/lib/python3.7/site-packages/ipykernel/__main__.py:13: RuntimeWarning: invalid value encountered in cos\n",
      "/Users/flower/.virtualenvs/comp-phys/lib/python3.7/site-packages/ipykernel/__main__.py:14: RuntimeWarning: invalid value encountered in cos\n",
      "/Users/flower/.virtualenvs/comp-phys/lib/python3.7/site-packages/ipykernel/__main__.py:13: RuntimeWarning: invalid value encountered in cos\n",
      "/Users/flower/.virtualenvs/comp-phys/lib/python3.7/site-packages/ipykernel/__main__.py:14: RuntimeWarning: invalid value encountered in cos\n",
      "/Users/flower/.virtualenvs/comp-phys/lib/python3.7/site-packages/ipykernel/__main__.py:13: RuntimeWarning: invalid value encountered in cos\n",
      "/Users/flower/.virtualenvs/comp-phys/lib/python3.7/site-packages/ipykernel/__main__.py:14: RuntimeWarning: invalid value encountered in cos\n",
      "/Users/flower/.virtualenvs/comp-phys/lib/python3.7/site-packages/ipykernel/__main__.py:13: RuntimeWarning: invalid value encountered in cos\n",
      "/Users/flower/.virtualenvs/comp-phys/lib/python3.7/site-packages/ipykernel/__main__.py:14: RuntimeWarning: invalid value encountered in cos\n",
      "/Users/flower/.virtualenvs/comp-phys/lib/python3.7/site-packages/ipykernel/__main__.py:13: RuntimeWarning: invalid value encountered in cos\n",
      "/Users/flower/.virtualenvs/comp-phys/lib/python3.7/site-packages/ipykernel/__main__.py:14: RuntimeWarning: invalid value encountered in cos\n",
      "/Users/flower/.virtualenvs/comp-phys/lib/python3.7/site-packages/ipykernel/__main__.py:13: RuntimeWarning: invalid value encountered in cos\n",
      "/Users/flower/.virtualenvs/comp-phys/lib/python3.7/site-packages/ipykernel/__main__.py:14: RuntimeWarning: invalid value encountered in cos\n",
      "/Users/flower/.virtualenvs/comp-phys/lib/python3.7/site-packages/ipykernel/__main__.py:13: RuntimeWarning: invalid value encountered in cos\n",
      "/Users/flower/.virtualenvs/comp-phys/lib/python3.7/site-packages/ipykernel/__main__.py:14: RuntimeWarning: invalid value encountered in cos\n",
      "/Users/flower/.virtualenvs/comp-phys/lib/python3.7/site-packages/ipykernel/__main__.py:13: RuntimeWarning: invalid value encountered in cos\n",
      "/Users/flower/.virtualenvs/comp-phys/lib/python3.7/site-packages/ipykernel/__main__.py:14: RuntimeWarning: invalid value encountered in cos\n",
      "/Users/flower/.virtualenvs/comp-phys/lib/python3.7/site-packages/ipykernel/__main__.py:13: RuntimeWarning: invalid value encountered in cos\n",
      "/Users/flower/.virtualenvs/comp-phys/lib/python3.7/site-packages/ipykernel/__main__.py:14: RuntimeWarning: invalid value encountered in cos\n",
      "/Users/flower/.virtualenvs/comp-phys/lib/python3.7/site-packages/ipykernel/__main__.py:13: RuntimeWarning: invalid value encountered in cos\n",
      "/Users/flower/.virtualenvs/comp-phys/lib/python3.7/site-packages/ipykernel/__main__.py:14: RuntimeWarning: invalid value encountered in cos\n",
      "/Users/flower/.virtualenvs/comp-phys/lib/python3.7/site-packages/ipykernel/__main__.py:13: RuntimeWarning: invalid value encountered in cos\n",
      "/Users/flower/.virtualenvs/comp-phys/lib/python3.7/site-packages/ipykernel/__main__.py:14: RuntimeWarning: invalid value encountered in cos\n",
      "/Users/flower/.virtualenvs/comp-phys/lib/python3.7/site-packages/ipykernel/__main__.py:13: RuntimeWarning: invalid value encountered in cos\n",
      "/Users/flower/.virtualenvs/comp-phys/lib/python3.7/site-packages/ipykernel/__main__.py:14: RuntimeWarning: invalid value encountered in cos\n",
      "/Users/flower/.virtualenvs/comp-phys/lib/python3.7/site-packages/ipykernel/__main__.py:13: RuntimeWarning: invalid value encountered in cos\n",
      "/Users/flower/.virtualenvs/comp-phys/lib/python3.7/site-packages/ipykernel/__main__.py:14: RuntimeWarning: invalid value encountered in cos\n",
      "/Users/flower/.virtualenvs/comp-phys/lib/python3.7/site-packages/ipykernel/__main__.py:13: RuntimeWarning: invalid value encountered in cos\n",
      "/Users/flower/.virtualenvs/comp-phys/lib/python3.7/site-packages/ipykernel/__main__.py:14: RuntimeWarning: invalid value encountered in cos\n",
      "/Users/flower/.virtualenvs/comp-phys/lib/python3.7/site-packages/ipykernel/__main__.py:13: RuntimeWarning: invalid value encountered in cos\n",
      "/Users/flower/.virtualenvs/comp-phys/lib/python3.7/site-packages/ipykernel/__main__.py:14: RuntimeWarning: invalid value encountered in cos\n",
      "/Users/flower/.virtualenvs/comp-phys/lib/python3.7/site-packages/ipykernel/__main__.py:13: RuntimeWarning: invalid value encountered in cos\n",
      "/Users/flower/.virtualenvs/comp-phys/lib/python3.7/site-packages/ipykernel/__main__.py:14: RuntimeWarning: invalid value encountered in cos\n",
      "/Users/flower/.virtualenvs/comp-phys/lib/python3.7/site-packages/ipykernel/__main__.py:13: RuntimeWarning: invalid value encountered in cos\n",
      "/Users/flower/.virtualenvs/comp-phys/lib/python3.7/site-packages/ipykernel/__main__.py:14: RuntimeWarning: invalid value encountered in cos\n",
      "/Users/flower/.virtualenvs/comp-phys/lib/python3.7/site-packages/ipykernel/__main__.py:13: RuntimeWarning: invalid value encountered in cos\n",
      "/Users/flower/.virtualenvs/comp-phys/lib/python3.7/site-packages/ipykernel/__main__.py:14: RuntimeWarning: invalid value encountered in cos\n"
     ]
    },
    {
     "name": "stderr",
     "output_type": "stream",
     "text": [
      "/Users/flower/.virtualenvs/comp-phys/lib/python3.7/site-packages/ipykernel/__main__.py:13: RuntimeWarning: invalid value encountered in cos\n",
      "/Users/flower/.virtualenvs/comp-phys/lib/python3.7/site-packages/ipykernel/__main__.py:14: RuntimeWarning: invalid value encountered in cos\n",
      "/Users/flower/.virtualenvs/comp-phys/lib/python3.7/site-packages/ipykernel/__main__.py:13: RuntimeWarning: invalid value encountered in cos\n",
      "/Users/flower/.virtualenvs/comp-phys/lib/python3.7/site-packages/ipykernel/__main__.py:14: RuntimeWarning: invalid value encountered in cos\n",
      "/Users/flower/.virtualenvs/comp-phys/lib/python3.7/site-packages/ipykernel/__main__.py:13: RuntimeWarning: invalid value encountered in cos\n",
      "/Users/flower/.virtualenvs/comp-phys/lib/python3.7/site-packages/ipykernel/__main__.py:14: RuntimeWarning: invalid value encountered in cos\n",
      "/Users/flower/.virtualenvs/comp-phys/lib/python3.7/site-packages/ipykernel/__main__.py:13: RuntimeWarning: invalid value encountered in cos\n",
      "/Users/flower/.virtualenvs/comp-phys/lib/python3.7/site-packages/ipykernel/__main__.py:14: RuntimeWarning: invalid value encountered in cos\n",
      "/Users/flower/.virtualenvs/comp-phys/lib/python3.7/site-packages/ipykernel/__main__.py:13: RuntimeWarning: invalid value encountered in cos\n",
      "/Users/flower/.virtualenvs/comp-phys/lib/python3.7/site-packages/ipykernel/__main__.py:14: RuntimeWarning: invalid value encountered in cos\n",
      "/Users/flower/.virtualenvs/comp-phys/lib/python3.7/site-packages/ipykernel/__main__.py:13: RuntimeWarning: invalid value encountered in cos\n",
      "/Users/flower/.virtualenvs/comp-phys/lib/python3.7/site-packages/ipykernel/__main__.py:14: RuntimeWarning: invalid value encountered in cos\n",
      "/Users/flower/.virtualenvs/comp-phys/lib/python3.7/site-packages/ipykernel/__main__.py:13: RuntimeWarning: invalid value encountered in cos\n",
      "/Users/flower/.virtualenvs/comp-phys/lib/python3.7/site-packages/ipykernel/__main__.py:14: RuntimeWarning: invalid value encountered in cos\n",
      "/Users/flower/.virtualenvs/comp-phys/lib/python3.7/site-packages/ipykernel/__main__.py:13: RuntimeWarning: invalid value encountered in cos\n",
      "/Users/flower/.virtualenvs/comp-phys/lib/python3.7/site-packages/ipykernel/__main__.py:14: RuntimeWarning: invalid value encountered in cos\n",
      "/Users/flower/.virtualenvs/comp-phys/lib/python3.7/site-packages/ipykernel/__main__.py:13: RuntimeWarning: invalid value encountered in cos\n",
      "/Users/flower/.virtualenvs/comp-phys/lib/python3.7/site-packages/ipykernel/__main__.py:14: RuntimeWarning: invalid value encountered in cos\n",
      "/Users/flower/.virtualenvs/comp-phys/lib/python3.7/site-packages/ipykernel/__main__.py:13: RuntimeWarning: invalid value encountered in cos\n",
      "/Users/flower/.virtualenvs/comp-phys/lib/python3.7/site-packages/ipykernel/__main__.py:14: RuntimeWarning: invalid value encountered in cos\n",
      "/Users/flower/.virtualenvs/comp-phys/lib/python3.7/site-packages/ipykernel/__main__.py:13: RuntimeWarning: invalid value encountered in cos\n",
      "/Users/flower/.virtualenvs/comp-phys/lib/python3.7/site-packages/ipykernel/__main__.py:14: RuntimeWarning: invalid value encountered in cos\n",
      "/Users/flower/.virtualenvs/comp-phys/lib/python3.7/site-packages/ipykernel/__main__.py:13: RuntimeWarning: invalid value encountered in cos\n",
      "/Users/flower/.virtualenvs/comp-phys/lib/python3.7/site-packages/ipykernel/__main__.py:14: RuntimeWarning: invalid value encountered in cos\n",
      "/Users/flower/.virtualenvs/comp-phys/lib/python3.7/site-packages/ipykernel/__main__.py:13: RuntimeWarning: invalid value encountered in cos\n",
      "/Users/flower/.virtualenvs/comp-phys/lib/python3.7/site-packages/ipykernel/__main__.py:14: RuntimeWarning: invalid value encountered in cos\n",
      "/Users/flower/.virtualenvs/comp-phys/lib/python3.7/site-packages/ipykernel/__main__.py:13: RuntimeWarning: invalid value encountered in cos\n",
      "/Users/flower/.virtualenvs/comp-phys/lib/python3.7/site-packages/ipykernel/__main__.py:14: RuntimeWarning: invalid value encountered in cos\n",
      "/Users/flower/.virtualenvs/comp-phys/lib/python3.7/site-packages/ipykernel/__main__.py:13: RuntimeWarning: invalid value encountered in cos\n",
      "/Users/flower/.virtualenvs/comp-phys/lib/python3.7/site-packages/ipykernel/__main__.py:14: RuntimeWarning: invalid value encountered in cos\n",
      "/Users/flower/.virtualenvs/comp-phys/lib/python3.7/site-packages/ipykernel/__main__.py:13: RuntimeWarning: invalid value encountered in cos\n",
      "/Users/flower/.virtualenvs/comp-phys/lib/python3.7/site-packages/ipykernel/__main__.py:14: RuntimeWarning: invalid value encountered in cos\n",
      "/Users/flower/.virtualenvs/comp-phys/lib/python3.7/site-packages/ipykernel/__main__.py:13: RuntimeWarning: invalid value encountered in cos\n",
      "/Users/flower/.virtualenvs/comp-phys/lib/python3.7/site-packages/ipykernel/__main__.py:14: RuntimeWarning: invalid value encountered in cos\n",
      "/Users/flower/.virtualenvs/comp-phys/lib/python3.7/site-packages/ipykernel/__main__.py:13: RuntimeWarning: invalid value encountered in cos\n",
      "/Users/flower/.virtualenvs/comp-phys/lib/python3.7/site-packages/ipykernel/__main__.py:14: RuntimeWarning: invalid value encountered in cos\n",
      "/Users/flower/.virtualenvs/comp-phys/lib/python3.7/site-packages/ipykernel/__main__.py:13: RuntimeWarning: invalid value encountered in cos\n",
      "/Users/flower/.virtualenvs/comp-phys/lib/python3.7/site-packages/ipykernel/__main__.py:14: RuntimeWarning: invalid value encountered in cos\n",
      "/Users/flower/.virtualenvs/comp-phys/lib/python3.7/site-packages/ipykernel/__main__.py:13: RuntimeWarning: invalid value encountered in cos\n",
      "/Users/flower/.virtualenvs/comp-phys/lib/python3.7/site-packages/ipykernel/__main__.py:14: RuntimeWarning: invalid value encountered in cos\n",
      "/Users/flower/.virtualenvs/comp-phys/lib/python3.7/site-packages/ipykernel/__main__.py:13: RuntimeWarning: invalid value encountered in cos\n",
      "/Users/flower/.virtualenvs/comp-phys/lib/python3.7/site-packages/ipykernel/__main__.py:14: RuntimeWarning: invalid value encountered in cos\n",
      "/Users/flower/.virtualenvs/comp-phys/lib/python3.7/site-packages/ipykernel/__main__.py:13: RuntimeWarning: invalid value encountered in cos\n",
      "/Users/flower/.virtualenvs/comp-phys/lib/python3.7/site-packages/ipykernel/__main__.py:14: RuntimeWarning: invalid value encountered in cos\n",
      "/Users/flower/.virtualenvs/comp-phys/lib/python3.7/site-packages/ipykernel/__main__.py:13: RuntimeWarning: invalid value encountered in cos\n",
      "/Users/flower/.virtualenvs/comp-phys/lib/python3.7/site-packages/ipykernel/__main__.py:14: RuntimeWarning: invalid value encountered in cos\n",
      "/Users/flower/.virtualenvs/comp-phys/lib/python3.7/site-packages/ipykernel/__main__.py:13: RuntimeWarning: invalid value encountered in cos\n",
      "/Users/flower/.virtualenvs/comp-phys/lib/python3.7/site-packages/ipykernel/__main__.py:14: RuntimeWarning: invalid value encountered in cos\n",
      "/Users/flower/.virtualenvs/comp-phys/lib/python3.7/site-packages/ipykernel/__main__.py:13: RuntimeWarning: invalid value encountered in cos\n",
      "/Users/flower/.virtualenvs/comp-phys/lib/python3.7/site-packages/ipykernel/__main__.py:14: RuntimeWarning: invalid value encountered in cos\n",
      "/Users/flower/.virtualenvs/comp-phys/lib/python3.7/site-packages/ipykernel/__main__.py:13: RuntimeWarning: invalid value encountered in cos\n",
      "/Users/flower/.virtualenvs/comp-phys/lib/python3.7/site-packages/ipykernel/__main__.py:14: RuntimeWarning: invalid value encountered in cos\n",
      "/Users/flower/.virtualenvs/comp-phys/lib/python3.7/site-packages/ipykernel/__main__.py:13: RuntimeWarning: invalid value encountered in cos\n",
      "/Users/flower/.virtualenvs/comp-phys/lib/python3.7/site-packages/ipykernel/__main__.py:14: RuntimeWarning: invalid value encountered in cos\n",
      "/Users/flower/.virtualenvs/comp-phys/lib/python3.7/site-packages/ipykernel/__main__.py:13: RuntimeWarning: invalid value encountered in cos\n",
      "/Users/flower/.virtualenvs/comp-phys/lib/python3.7/site-packages/ipykernel/__main__.py:14: RuntimeWarning: invalid value encountered in cos\n",
      "/Users/flower/.virtualenvs/comp-phys/lib/python3.7/site-packages/ipykernel/__main__.py:13: RuntimeWarning: invalid value encountered in cos\n",
      "/Users/flower/.virtualenvs/comp-phys/lib/python3.7/site-packages/ipykernel/__main__.py:14: RuntimeWarning: invalid value encountered in cos\n",
      "/Users/flower/.virtualenvs/comp-phys/lib/python3.7/site-packages/ipykernel/__main__.py:13: RuntimeWarning: invalid value encountered in cos\n",
      "/Users/flower/.virtualenvs/comp-phys/lib/python3.7/site-packages/ipykernel/__main__.py:14: RuntimeWarning: invalid value encountered in cos\n"
     ]
    }
   ],
   "source": [
    "p_radii = np.array([2440, 6052, 6371, 3386, 69173, 57316, 695500])\n",
    "r = np.array([57.9, 108.2, 149.6, 227.9, 778.5, 1433.4, 0])\n",
    "T = np.array([88.0, 224.7, 365.3, 687.0, 4331.6, 10759.2, 0])\n",
    "theta = .0 * r\n",
    "W = 2 * np.pi / T\n",
    "dt = 0.1 #Time step\n",
    "\n",
    "while True:\n",
    "    rate(30) \n",
    "\n",
    "    for i in range(len(r)):\n",
    "        theta[i] += dt * W[i]\n",
    "        x_pos = r[i] * np.cos(theta[i])\n",
    "        y_pos = r[i] * np.cos(theta[i])\n",
    "        sphere(pos = vector(x_pos, y_pos, 0), radius = p_radii[i])"
   ]
  },
  {
   "cell_type": "code",
   "execution_count": null,
   "metadata": {},
   "outputs": [],
   "source": []
  },
  {
   "cell_type": "code",
   "execution_count": null,
   "metadata": {},
   "outputs": [],
   "source": []
  }
 ],
 "metadata": {
  "kernelspec": {
   "display_name": "VPython",
   "language": "python",
   "name": "vpython"
  }
 },
 "nbformat": 4,
 "nbformat_minor": 2
}
