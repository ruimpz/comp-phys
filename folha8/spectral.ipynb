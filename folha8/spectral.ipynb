{
 "cells": [
  {
   "cell_type": "code",
   "execution_count": 2,
   "metadata": {},
   "outputs": [],
   "source": [
    "import numpy as np\n",
    "import matplotlib.pyplot as plt\n",
    "import scipy.fftpack as sp\n",
    "%matplotlib inline"
   ]
  },
  {
   "cell_type": "code",
   "execution_count": 25,
   "metadata": {},
   "outputs": [],
   "source": [
    "k = 1\n",
    "L, sigma, x0, K = 1, .1, 1/2, 10\n",
    "n = 100\n",
    "E, h_bar = 1, 1\n",
    "xi, xf = 0, 1\n",
    "ti, tf = 0, 1\n",
    "x = np.linspace(xi, xf, n)\n",
    "t = np.linspace(ti, tf, n)\n",
    "psi0 = np.exp(-(x - x0)**2 / 2 / sigma**2) * np.exp(1j*K*x)\n",
    "psi0[0], psi0[-1] = 0., 0."
   ]
  },
  {
   "cell_type": "code",
   "execution_count": null,
   "metadata": {},
   "outputs": [],
   "source": []
  }
 ],
 "metadata": {
  "kernelspec": {
   "display_name": "Python 3",
   "language": "python",
   "name": "python3"
  },
  "language_info": {
   "codemirror_mode": {
    "name": "ipython",
    "version": 3
   },
   "file_extension": ".py",
   "mimetype": "text/x-python",
   "name": "python",
   "nbconvert_exporter": "python",
   "pygments_lexer": "ipython3",
   "version": "3.7.3"
  }
 },
 "nbformat": 4,
 "nbformat_minor": 2
}
