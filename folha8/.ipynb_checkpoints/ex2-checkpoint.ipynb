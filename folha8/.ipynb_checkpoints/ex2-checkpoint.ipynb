{
 "cells": [
  {
   "cell_type": "code",
   "execution_count": 3,
   "metadata": {},
   "outputs": [],
   "source": [
    "import matplotlib.pyplot as plt\n",
    "import numpy as np\n",
    "from numba import jit\n",
    "%matplotlib inline"
   ]
  },
  {
   "cell_type": "code",
   "execution_count": 38,
   "metadata": {},
   "outputs": [],
   "source": [
    "@jit\n",
    "def gauss_seidel(a, L, V, w, delta = 1e-6):\n",
    "    n = int(L // a  + 2)\n",
    "    A = [[0 for i in range(n)] for i in range(n)]\n",
    "    for i in range(n):\n",
    "        A[-1][i] = V\n",
    "    error = 1.\n",
    "    while error > delta:\n",
    "        error = 0.\n",
    "        for i in range(1,n-1):\n",
    "            for j in range(1,n-1):\n",
    "                A_1 = A[i][j]\n",
    "                A_2 = (1 + w) / 4 * (A[i-1][j] + A[i+1][j] + A[i][j-1] + A[i][j+1]) - w * A_1\n",
    "                step_error = abs(A_2 - A_1)\n",
    "                if step_error > error:\n",
    "                    error = step_error\n",
    "                A[i][j] = A_2\n",
    "    return A"
   ]
  },
  {
   "cell_type": "code",
   "execution_count": null,
   "metadata": {},
   "outputs": [],
   "source": [
    "%timeit -n 1 -r 1 plt.pcolormesh(gauss_seidel(.01, 1, 1, .9))"
   ]
  },
  {
   "cell_type": "code",
   "execution_count": null,
   "metadata": {},
   "outputs": [],
   "source": []
  }
 ],
 "metadata": {
  "kernelspec": {
   "display_name": "Python 3",
   "language": "python",
   "name": "python3"
  },
  "language_info": {
   "codemirror_mode": {
    "name": "ipython",
    "version": 3
   },
   "file_extension": ".py",
   "mimetype": "text/x-python",
   "name": "python",
   "nbconvert_exporter": "python",
   "pygments_lexer": "ipython3",
   "version": "3.7.3"
  }
 },
 "nbformat": 4,
 "nbformat_minor": 2
}
